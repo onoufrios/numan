{
 "cells": [
  {
   "cell_type": "markdown",
   "metadata": {},
   "source": [
    "# Άσκηση 8.1\n",
    "    \n",
    "Τα Προηγμένα Συστήματα Υποβοήθησης Οδηγού (ADAS) χρησιμοποιούν αισθητήρες απόστασης για την εκτίμηση της κινηματικής των οχημάτων στο δρόμο. Για τις ανάγκες της άσκησης δημιουργείστε έναν τεχνητό πίνακα δεδομένων με χρόνο από 0 έως 10s και χρονικό βήμα 0.1s. Η απόσταση θα υπολογιστεί από την σχέση:\n",
    "\n",
    "$$s(t)=90-10*t-0.5*t^2$$ \n",
    "\n",
    "Όπου \n",
    "* t ο χρόνος σε s\n",
    "* s η απόσταση σε m\n",
    "\n",
    "Υπολογίστε την απόσταση και την ταχύτητα και παρουσιάστε τα αποτελέσματα σε γράφημα.\n"
   ]
  },
  {
   "cell_type": "code",
   "execution_count": null,
   "metadata": {},
   "outputs": [],
   "source": [
    "import numpy as np\n",
    "import matplotlib.pyplot as plt\n",
    "\n",
    "tend = 10  # seconds\n",
    "dt = 0.1  # seconds\n",
    "time = np.arange(0, tend + dt, dt)\n",
    "n = time.size  # number of data points\n",
    "\n",
    "distance = 90 - 10 * time + 0.5 * time**2\n",
    "\n",
    "velocity = np.empty(n)\n",
    "\n",
    "velocity[0] = (distance[1] - distance[0]) / dt  # forward difference\n",
    "for i in range(1, n - 1):\n",
    "    velocity[i] = (distance[i + 1] - distance[i - 1]) / (2 * dt)  # central difference\n",
    "velocity[-1] = (distance[-1] - distance[-2]) / dt  # backward difference\n",
    "\n",
    "fig, ax = plt.subplots()\n",
    "ax.set(xlabel=\"Time [s]\")\n",
    "ax.set_ylabel(\"Distance [m]\", color=\"b\")\n",
    "ax.plot(time, distance, \"-b\")\n",
    "ax.set_ylim(bottom=0, top=100)\n",
    "\n",
    "ax2 = ax.twinx()\n",
    "ax2.set_ylabel(\"Speed [km/h]\", color=\"r\")\n",
    "ax2.plot(time, abs(velocity) * 3.6, \"-r\")\n",
    "ax2.set_ylim(bottom=0, top=100)\n",
    "\n",
    "plt.xlim(0, tend)\n",
    "ax.grid()\n",
    "plt.show()"
   ]
  }
 ],
 "metadata": {
  "celltoolbar": "Slideshow",
  "kernelspec": {
   "display_name": "Python 3 (ipykernel)",
   "language": "python",
   "name": "python3"
  },
  "language_info": {
   "codemirror_mode": {
    "name": "ipython",
    "version": 3
   },
   "file_extension": ".py",
   "mimetype": "text/x-python",
   "name": "python",
   "nbconvert_exporter": "python",
   "pygments_lexer": "ipython3",
   "version": "3.10.8"
  }
 },
 "nbformat": 4,
 "nbformat_minor": 2
}
