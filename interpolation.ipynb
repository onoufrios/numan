{
 "cells": [
  {
   "cell_type": "markdown",
   "metadata": {
    "slideshow": {
     "slide_type": "slide"
    }
   },
   "source": [
    "# Άσκηση 5.1\n",
    "\n",
    "Πολλές φορές οι μετεωρολογικές υπηρεσίες δίνουν τις προβλέψεις με χρονικό βήμα 3 ωρών. Στον {numref}`Πίνακα %s <temperature_forecast_tab>` φαίνεται η πρόβλεψη της θερμοκρασίας για ένα εικοσιτετράωρο. Απεικονίστε την θερμοκρασία σε γράφημα με σημεία (χωρίς γραμμές) και εκτιμήστε την θερμοκρασία στις 05:00 και 20:00.\n",
    "\n",
    "```{table} Πρόβλεψη θερμοκρασίας.\n",
    ":name: temperature_forecast_tab\n",
    "| Πολιτική ώρα [h] | Θερμοκρασία [°C]|\n",
    "|------------------|-----------------|\n",
    "|  0 | 18 |\n",
    "|  3 | 16 |\n",
    "|  6 | 15 |\n",
    "|  9 | 21 |\n",
    "| 12 | 25 |\n",
    "| 15 | 27 |\n",
    "| 18 | 26 |\n",
    "| 21 | 23 |\n",
    "| 24 | 18 |\n",
    "```"
   ]
  },
  {
   "cell_type": "code",
   "execution_count": null,
   "metadata": {},
   "outputs": [],
   "source": [
    "import numpy as np\n",
    "import matplotlib.pyplot as plt\n",
    "\n",
    "x = np.array([0, 3, 6, 9, 12, 15, 18, 21, 24])\n",
    "y = np.array([18, 16, 15, 21, 25, 27, 26, 23, 18])\n",
    "\n",
    "fig, ax = plt.subplots()\n",
    "ax.set(xlabel='Time [h]', ylabel='Temperature [°C]')\n",
    "\n",
    "ax.plot(x, y, \"o\")\n",
    "plt.xlim(0, 24)\n",
    "plt.ylim(12, 28)\n",
    "ax.grid()\n",
    "plt.show()"
   ]
  },
  {
   "cell_type": "markdown",
   "metadata": {},
   "source": []
  }
 ],
 "metadata": {
  "celltoolbar": "Slideshow",
  "kernelspec": {
   "display_name": "Python 3 (ipykernel)",
   "language": "python",
   "name": "python3"
  },
  "language_info": {
   "codemirror_mode": {
    "name": "ipython",
    "version": 3
   },
   "file_extension": ".py",
   "mimetype": "text/x-python",
   "name": "python",
   "nbconvert_exporter": "python",
   "pygments_lexer": "ipython3",
   "version": "3.10.11"
  }
 },
 "nbformat": 4,
 "nbformat_minor": 2
}
