{
 "cells": [
  {
   "cell_type": "markdown",
   "metadata": {},
   "source": [
    "# Άσκηση 2.1\n",
    "Υπολογίστε την έκφραση  $b=Α x$ όπου:\n",
    "\n",
    "$$Α= \\begin{pmatrix} \n",
    "1 & 2 & 3 \\\\\n",
    "4 & 2 & 1 \\\\\n",
    "1 & 1 & 1 \\\\\n",
    "\\end{pmatrix}$$\n",
    "\n",
    "$$x= \\begin{pmatrix} \n",
    "1  \\\\\n",
    "4  \\\\\n",
    "2  \\\\\n",
    "\\end{pmatrix}$$\n"
   ]
  },
  {
   "cell_type": "code",
   "execution_count": null,
   "metadata": {},
   "outputs": [],
   "source": [
    "import numpy as np\n",
    "\n",
    "A=np.array([[1,2,3],[4,2,1],[1,1,1]])\n",
    "x=np.array([1,4,2])\n",
    "\n",
    "b=A@x # Equivalent to b=np.dot(A,x)\n",
    "print(b)\n",
    "\n",
    "x=np.linalg.inv(A)@b    #Calculation of x using inverse matrix of A\n",
    "print(x)\n"
   ]
  },
  {
   "cell_type": "markdown",
   "metadata": {},
   "source": [
    "# Άσκηση 2.2\n",
    "\n",
    "Απεικονίστε σε γραφική παράσταση την συνάρτηση του συνημιτόνου ως προς $x$, το οποίο μεταβάλλεται από 0 ως 360° με βήμα 10°.\n"
   ]
  },
  {
   "cell_type": "code",
   "execution_count": null,
   "metadata": {},
   "outputs": [],
   "source": [
    "import matplotlib.pyplot as plt\n",
    "import numpy as np\n",
    "\n",
    "x=np.arange(0,360,10)\n",
    "y=np.cos(np.radians(x))\n",
    "\n",
    "fig, ax = plt.subplots()\n",
    "ax.set(xlabel='x', ylabel='y')\n",
    "ax.plot(x,y,\"^-r\")\n",
    "ax.grid()\n",
    "plt.show()"
   ]
  }
 ],
 "metadata": {
  "kernelspec": {
   "display_name": "Python 3",
   "language": "python",
   "name": "python3"
  },
  "language_info": {
   "codemirror_mode": {
    "name": "ipython",
    "version": 3
   },
   "file_extension": ".py",
   "mimetype": "text/x-python",
   "name": "python",
   "nbconvert_exporter": "python",
   "pygments_lexer": "ipython3",
   "version": "3.10.8"
  }
 },
 "nbformat": 4,
 "nbformat_minor": 2
}
