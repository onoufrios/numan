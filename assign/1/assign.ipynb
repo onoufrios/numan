{
 "cells": [
  {
   "cell_type": "markdown",
   "metadata": {},
   "source": [
    "# Αριθμητική Ανάλυση\n",
    "## Εργασία 1: Εισαγωγή στην Python και στις μονάδες κώδικα\n",
    "\n",
    "### Σημαντικές σημειώσεις\n",
    "\n",
    "- Όι ζητούμενες συναρτήσεις δεν πρέπει έχουν αναφορές σε global μεταβλητές εκτός από σταθερές καθιερωμένων μονάδων κώδικα (π.χ numpy.pi).\n",
    "- Ο αριθμός μητρώου πρέπει να είναι σύμφωνος με αυτόν που έχει δηλωθεί στο προφίλ του eclass.\n",
    "- Όπου χρησιμοποιούνται ψηφία του αριθμού μητρώου, πρέπει να είναι απευθείας δηλωμένα στον κώδικα (hard-coded) κάθε συνάρτησης και όχι να εξάγονται από τον ΑΜ.\n",
    "- Το αρχείο της εργασίας πρέπει να τρέχει εξ ολοκλήρου (Run All) για να βαθμολογηθεί.\n"
   ]
  },
  {
   "cell_type": "code",
   "execution_count": null,
   "metadata": {
    "tags": [
     "imports"
    ]
   },
   "outputs": [],
   "source": [
    "# Εισαγωγή μονάδων κώδικα\n",
    "# - Μην αλλάζετε αυτό το κελί.\n",
    "\n",
    "import numpy as np\n",
    "import matplotlib.pyplot as plt"
   ]
  },
  {
   "cell_type": "code",
   "execution_count": null,
   "metadata": {},
   "outputs": [],
   "source": [
    "# Στοιχεία φοιτητή\n",
    "# - Εισάγετε το όνομά σας με ελληνικούς χαρακτήρες.\n",
    "\n",
    "onoma = \"onoma\"\n",
    "eponymo = \"eponymo\"\n",
    "AM = 3120123"
   ]
  },
  {
   "cell_type": "markdown",
   "metadata": {},
   "source": [
    "**Άσκηση 1:** Γράψτε μια συνάρτηση με το όνομα `myfunction1` που δέχεται ως όρισμα μία μεταβλητή $x$ και επιστρέφει το αποτέλεσμα της μαθηματικής έκφρασης $(a+1)e^{(b+1)x}+(c+1)$ χωρίς να χρησιμοποιήσετε την συνάρτηση exp. Τα a,b,c είναι τα 3 τελευταία ψηφία του αριθμού μητρώου σας (c=τελευταίο).\n",
    "\n",
    "Ελέγξτε τα αποτελέσματα της συνάρτησης για $x=0$, $x=1$ και $x=2.5$."
   ]
  },
  {
   "cell_type": "code",
   "execution_count": null,
   "metadata": {},
   "outputs": [],
   "source": [
    "# Λύση της άσκησης 1\n",
    "# - Σε αυτό το κελί γράψτε μόνο τις ζητούμενες συναρτήσεις χωρίς print και input.\n",
    "def myfunction1(x: np.float64) -> np.float64:\n",
    "    return 0.0"
   ]
  },
  {
   "cell_type": "code",
   "execution_count": null,
   "metadata": {
    "tags": [
     "worksheet"
    ]
   },
   "outputs": [],
   "source": [
    "# Πρόχειρο άσκησης 1\n",
    "# - Σε αυτό το κελί μπορείτε να τυπώσετε μεταβλητές για επαλήθευση. Δεν λαμβάνεται υπόψη στην βαθμολόγηση.\n",
    "\n",
    "print(myfunction1(0), myfunction1(1), myfunction1(2.5))"
   ]
  },
  {
   "cell_type": "markdown",
   "metadata": {},
   "source": [
    "**Άσκηση 2:** Γράψτε μια συνάρτηση `myfunction2` που δέχεται ως όρισμα ένα διάνυσμα $P$ 2 συντεταγμένων στον επίπεδο xy,\n",
    "\n",
    "1. Προσθέτει την μετατόπιση $\\begin{bmatrix}a\\\\ b-c\\end{bmatrix}$\n",
    "\n",
    "2. Μετατρέπει το άθροισμα σε κυλινδρικές συντεταγμένες $\\begin{bmatrix}R\\\\ θ\\end{bmatrix}$, όπου:\n",
    "$$R=\\sqrt{x^2+y^2}$$\n",
    "$$θ=εφ^{-1}\\left(\\frac{y}{x}\\right)$$\n",
    "\n",
    "3. Βρίσκει το αντίθετο διάνυσμα $P_{cyl}$ σε κυλινδρικές συντεταγμένες.\n",
    "\n",
    "Στις κυλινδρικές συντεταγμένες το μέτρο δεν μπορεί να είναι αρνητικό και η γωνία πρέπει να είναι στο πεδίο $[-π,π]$.\n",
    "Τα a, b, c είναι τα 3 τελευταία ψηφία του αριθμού μητρώου σας (c=τελευταίο).\n",
    "\n",
    "Ελέγξτε τα αποτελέσματα της συνάρτησης για $P=\\begin{bmatrix} 0\\\\ 0\\end{bmatrix}$ και $P=\\begin{bmatrix} 5\\\\ 2\\end{bmatrix}$."
   ]
  },
  {
   "cell_type": "code",
   "execution_count": null,
   "metadata": {},
   "outputs": [],
   "source": [
    "# Λύση της άσκησης 2\n",
    "# - Σε αυτό το κελί γράψτε μόνο τις ζητούμενες συναρτήσεις χωρίς print και input.\n",
    "def myfunction2(P: np.ndarray) -> np.ndarray:\n",
    "    Pcyl=np.array([0,0])\n",
    "    return Pcyl"
   ]
  },
  {
   "cell_type": "code",
   "execution_count": null,
   "metadata": {
    "tags": [
     "worksheet"
    ]
   },
   "outputs": [],
   "source": [
    "# Πρόχειρο άσκησης 2\n",
    "# - Σε αυτό το κελί μπορείτε να τυπώσετε μεταβλητές για επαλήθευση. Δεν λαμβάνεται υπόψη στην βαθμολόγηση.\n",
    "\n",
    "print(myfunction2(np.array([0, 0])), myfunction2(np.array([5, 2])))"
   ]
  }
 ],
 "metadata": {
  "kernelspec": {
   "display_name": "Python 3",
   "language": "python",
   "name": "python3"
  },
  "language_info": {
   "codemirror_mode": {
    "name": "ipython",
    "version": 3
   },
   "file_extension": ".py",
   "mimetype": "text/x-python",
   "name": "python",
   "nbconvert_exporter": "python",
   "pygments_lexer": "ipython3",
   "version": "3.10.8"
  },
  "varInspector": {
   "cols": {
    "lenName": 16,
    "lenType": 16,
    "lenVar": 40
   },
   "kernels_config": {
    "python": {
     "delete_cmd_postfix": "",
     "delete_cmd_prefix": "del ",
     "library": "var_list.py",
     "varRefreshCmd": "print(var_dic_list())"
    },
    "r": {
     "delete_cmd_postfix": ") ",
     "delete_cmd_prefix": "rm(",
     "library": "var_list.r",
     "varRefreshCmd": "cat(var_dic_list()) "
    }
   },
   "types_to_exclude": [
    "module",
    "function",
    "builtin_function_or_method",
    "instance",
    "_Feature"
   ],
   "window_display": false
  }
 },
 "nbformat": 4,
 "nbformat_minor": 4
}
