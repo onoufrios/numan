{
 "cells": [
  {
   "cell_type": "markdown",
   "id": "c8cf3a4d",
   "metadata": {},
   "source": [
    "# Εργασία 1: Εισαγωγή στην Python και στις βιβλιοθήκες\n",
    "\n",
    "## Οδηγίες\n",
    "\n",
    "- Όι ζητούμενες συναρτήσεις δεν πρέπει έχουν αναφορές σε global μεταβλητές εκτός από σταθερές καθιερωμένων μονάδων κώδικα (π.χ numpy.pi).\n",
    "- Ο αριθμός μητρώου πρέπει να είναι σύμφωνος με αυτόν που έχει δηλωθεί στο προφίλ του eclass.\n",
    "- Όπου χρησιμοποιούνται ψηφία του αριθμού μητρώου, πρέπει να είναι απευθείας δηλωμένα στον κώδικα (hard-coded) κάθε συνάρτησης και όχι να εξάγονται από τον ΑΜ.\n",
    "- Το αρχείο της εργασίας πρέπει να τρέχει εξ ολοκλήρου (Run All) για να βαθμολογηθεί.\n",
    "\n",
    "Δείτε το [περίγραμμα του μαθήματος](https://greendigital.uth.gr/courses/numan/about/about.html) για πιο πολλές λεπτομέρειες."
   ]
  },
  {
   "cell_type": "code",
   "execution_count": null,
   "id": "3cbf24a1",
   "metadata": {
    "tags": [
     "imports"
    ]
   },
   "outputs": [],
   "source": [
    "# Εισαγωγή μονάδων κώδικα\n",
    "# - Μην αλλάζετε αυτό το κελί.\n",
    "\n",
    "import numpy as np\n",
    "import matplotlib.pyplot as plt"
   ]
  },
  {
   "cell_type": "code",
   "execution_count": null,
   "id": "f86bd6a5",
   "metadata": {},
   "outputs": [],
   "source": [
    "# Στοιχεία φοιτητή\n",
    "# - Εισάγετε το όνομά σας με ελληνικούς χαρακτήρες.\n",
    "\n",
    "onoma = \"onoma\"\n",
    "eponymo = \"eponymo\"\n",
    "AM = 3120123"
   ]
  },
  {
   "cell_type": "markdown",
   "id": "e30f6b4e",
   "metadata": {},
   "source": [
    "## Άσκηση 1: Μαθηματικές εκφράσεις\n",
    "\n",
    "Ένα αντικείμενο αποτελείται από έναν κύλινδρο και δύο ημισφαίρια ίδιας διαμέτρου.\n",
    "Γράψτε μια συνάρτηση με το όνομα `myfunction1`, η οποία που δέχεται ως παραμέτρο την διάμετρο $d$ και υπολογίζει τον λόγο όγκου προς επιφάνεια $\\frac{V}Α$ του αντικειμένου.\n",
    "Χρησιμοποιείστε την σταθερά $π$ της μονάδας κώδικα numpy.\n",
    "To ύψος $h$ του κυλίνδρου δίνεται από την σχέση $a+\\frac{b+1}{c+1}$, όπου a,b,c είναι τα 3 τελευταία ψηφία του αριθμού μητρώου σας (c=τελευταίο).\n",
    "\n",
    "Ελέγξτε τα αποτελέσματα της συνάρτησης για $d=1.0$, $d=2.5$ και $d=5.0$."
   ]
  },
  {
   "cell_type": "code",
   "execution_count": null,
   "id": "dcbbbf2c",
   "metadata": {},
   "outputs": [],
   "source": [
    "# Λύση της άσκησης 1\n",
    "# - Σε αυτό το κελί γράψτε μόνο τις ζητούμενες συναρτήσεις χωρίς print και input.\n",
    "def myfunction1(d: np.float64) -> np.float64:\n",
    "    return 0.0"
   ]
  },
  {
   "cell_type": "code",
   "execution_count": null,
   "id": "a91a5f55",
   "metadata": {
    "tags": [
     "worksheet"
    ]
   },
   "outputs": [],
   "source": [
    "# Πρόχειρο άσκησης 1\n",
    "# - Σε αυτό το κελί μπορείτε να τυπώσετε μεταβλητές για επαλήθευση. Δεν λαμβάνεται υπόψη στην βαθμολόγηση.\n",
    "\n",
    "print(myfunction1(1.0), myfunction1(2.5), myfunction1(5.0))"
   ]
  },
  {
   "cell_type": "markdown",
   "id": "712f48ac",
   "metadata": {},
   "source": [
    "## Άσκηση 2: Πίνακες NumPy\n",
    "Γράψτε μια συνάρτηση `myfunction2`, η οποία:\n",
    "\n",
    "1. Δέχεται ως όρισμα ένα διάνυσμα $P$ δύο στοιχείων (πίνακας numpy.ndarray με συντεταγμένες x και y),\n",
    "\n",
    "1. Προσθέτει την μετατόπιση $\\begin{bmatrix} 2b-c\\\\ a\\end{bmatrix}$\n",
    "\n",
    "2. Μετατρέπει το άθροισμα σε κυλινδρικές συντεταγμένες $P_{cyl}=\\begin{bmatrix}R\\\\ \\theta\\end{bmatrix}$, όπου το $R$ το μέτρο και $\\theta$ η γωνία σύμφωνα με τις σχέσεις:\n",
    "\n",
    "$$\n",
    "\\begin{aligned}\n",
    "R&=&\\sqrt{x^2+y^2}\\\\\n",
    "\\theta&=&εφ^{-1}\\left(\\frac{y}{x}\\right)\n",
    "\\end{aligned}\n",
    "$$\n",
    "\n",
    "3. Βρίσκει το αντίθετο διάνυσμα $P_{cyl}$ σε κυλινδρικές συντεταγμένες.\n",
    "\n",
    "Υπόδειξη: Χρησιμοποιείστε την συνάρτηση numpy.arctan2. Στις κυλινδρικές συντεταγμένες το μέτρο δεν μπορεί να είναι αρνητικό και η γωνία πρέπει να είναι στο πεδίο $[-π,π]$.\n",
    "\n",
    "Ελέγξτε τα αποτελέσματα της συνάρτησης για $P=\\begin{bmatrix} 0\\\\ 0\\end{bmatrix}$ και $P=\\begin{bmatrix} 5\\\\ 2\\end{bmatrix}$."
   ]
  },
  {
   "cell_type": "code",
   "execution_count": null,
   "id": "53773302",
   "metadata": {},
   "outputs": [],
   "source": [
    "# Λύση της άσκησης 2\n",
    "# - Σε αυτό το κελί γράψτε μόνο τις ζητούμενες συναρτήσεις χωρίς print και input.\n",
    "def myfunction2(P: np.ndarray) -> np.ndarray:\n",
    "    Pcyl=np.array([0.,0.])\n",
    "    return Pcyl"
   ]
  },
  {
   "cell_type": "code",
   "execution_count": null,
   "id": "8227f469",
   "metadata": {
    "tags": [
     "worksheet"
    ]
   },
   "outputs": [],
   "source": [
    "# Πρόχειρο άσκησης 2\n",
    "# - Σε αυτό το κελί μπορείτε να τυπώσετε μεταβλητές για επαλήθευση. Δεν λαμβάνεται υπόψη στην βαθμολόγηση.\n",
    "\n",
    "print(myfunction2(np.array([0., 0.])), myfunction2(np.array([5., 2.])))"
   ]
  }
 ],
 "metadata": {
  "kernelspec": {
   "display_name": "Python 3",
   "language": "python",
   "name": "python3"
  }
 },
 "nbformat": 4,
 "nbformat_minor": 5
}
