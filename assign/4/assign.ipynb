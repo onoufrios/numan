{
 "cells": [
  {
   "cell_type": "markdown",
   "metadata": {},
   "source": [
    "# Εργασία 4: Παραγώγιση και ολοκλήρωση\n",
    "\n",
    "## Οδηγίες\n",
    "\n",
    "- Όι ζητούμενες συναρτήσεις δεν πρέπει έχουν αναφορές σε global μεταβλητές εκτός από τις σταθερές καθιερωμένων μονάδων κώδικα (π.χ numpy.pi) και όσες μεταβλητές δίνονται στο πρώτο κελί.\n",
    "- Ο αριθμός μητρώου πρέπει να είναι σύμφωνος με αυτόν που έχει δηλωθεί στο προφίλ του eclass.\n",
    "- Όπου χρησιμοποιούνται ψηφία του αριθμού μητρώου, πρέπει να είναι απευθείας δηλωμένα στον κώδικα (hard-coded) κάθε συνάρτησης και όχι να εξάγονται από τον ΑΜ.\n",
    "- Το αρχείο της εργασίας πρέπει να τρέχει εξ ολοκλήρου (Run All) για να βαθμολογηθεί.\n"
   ]
  },
  {
   "cell_type": "code",
   "execution_count": null,
   "metadata": {
    "tags": [
     "imports"
    ]
   },
   "outputs": [],
   "source": [
    "# Εισαγωγή μονάδων κώδικα και δεδομένων\n",
    "# - Μην αλλάζετε αυτό το κελί.\n",
    "\n",
    "import numpy as np\n",
    "import matplotlib.pyplot as plt\n",
    "import pandas as pd\n",
    "\n",
    "WLTP=pd.read_csv(\"https://raw.githubusercontent.com/onoufrios/numan/refs/heads/main/assign/4/WLTP_class3.csv\")\n",
    "\n",
    "# Οι παρακάτω global μεταβλητές μπορούν να χρησιμοποιηθούν στις συναρτήσεις σας.\n",
    "t_wltp=WLTP[\"Time[s]\"].to_numpy()\n",
    "u_wltp=WLTP[\"Vehicle_speed[km/h]\"].to_numpy()\n"
   ]
  },
  {
   "cell_type": "code",
   "execution_count": null,
   "metadata": {},
   "outputs": [],
   "source": [
    "# Στοιχεία φοιτητή\n",
    "# - Εισάγετε το όνομά σας με ελληνικούς χαρακτήρες.\n",
    "\n",
    "onoma = \"onoma\"\n",
    "eponymo = \"eponymo\"\n",
    "AM = 3100999\n"
   ]
  },
  {
   "cell_type": "markdown",
   "metadata": {},
   "source": [
    "## Άσκηση 1\n",
    "\n",
    "Για την έγκριση της κυκλοφορίας ενός επιβατηγού οχήματος στην Ευρωπαϊκή Ένωση γίνονται μετρήσεις σύμφωνα με τον [οδικό κύκλο WLTP](https://el.wikipedia.org/wiki/WLTP). Ο οδικός κύκλος για οχήματα κλάσης 3 δίνεται με την μορφή χρονοσειράς της ταχύτητας $u_{init} [\\text{km/h}]$ [εδώ](\"https://raw.githubusercontent.com/onoufrios/numan/refs/heads/main/assign/4/WLTP_class3.csv\").\n",
    "\n",
    "Έστω μία τροποποίηση του κύκλου WLTP:\n",
    "\n",
    "$$ \n",
    "\\begin{align} \n",
    "u_{mod}(t)&=u_{init}(t)\\cdot (1.15-a/100+b/75) & \\text{για } & t \\le 589\\\\\n",
    "u_{mod}(t)&=u_{init}(t)\\cdot (0.85+c/100) & \\text{για } & t > 1477\n",
    "\\end{align} \n",
    "$$\n",
    "\n",
    "όπου a,b και c, τα 3 τελευταία ψηφία του αριθμού μητρώου σας (c=τελευταίο).\n",
    "\n",
    "Γράψτε μια συνάρτηση `myfunction1`, η οποία υπολογίζει την χρονοσειρά της τροποποιημένης ταχύτητας και επιτάχυνσης $a[\\text{m}/\\text{s}^2]$:\n",
    "\n",
    "$$a=\\frac{du}{dt}$$ \n",
    "\n",
    "Στο αρχικό σημείο χρησιμοποιήστε προς τα εμπρός διαφορά, στο τελικό προς τα πίσω διαφορά και στα ενδιάμεσα κεντρικές διαφορές. Στην συνέχεια υπολογίστε την μέγιστη επιτάχυνση $a_{acc}$ και μέγιστη επιβράδυνση $a_{dec}$.\n",
    "\n",
    "Η συνάρτηση πρέπει να δέχεται ως είσοδο τον χρόνο $t_1$ και να επιστρέφει ένα διάνυσμα δύο τιμών με:\n",
    "- την $a(t_1)$ που προκύπτει από γραμμική παρεμβολή.\n",
    "- το ποσοστό (τιμές από 0 έως 1) σε σχέση με την μέγιστη επιτάχυνση $\\frac{a}{a_{acc}}$ ή επιβράδυνση $\\frac{a}{a_{dec}}$ αναλόγως το πρόσημο της $a$.\n",
    "\n",
    "Ελέγξτε τα αποτελέσματα της συνάρτησης για τις τιμές του $t$:\n",
    "- 200s\n",
    "- 1200s\n",
    "- 1770s\n",
    "\n",
    "Δώστε προσοχή στην μονάδες του πίνακα και τις μονάδες που ζητούνται στα αποτελέσματα."
   ]
  },
  {
   "cell_type": "code",
   "execution_count": null,
   "metadata": {},
   "outputs": [],
   "source": [
    "# Λύση της άσκησης 1\n",
    "# - Σε αυτό το κελί γράψτε μόνο τις ζητούμενες συναρτήσεις χωρίς print και input.\n",
    "def myfunction1(t1:float) -> np.ndarray:\n",
    "    return np.array([0.,0.])"
   ]
  },
  {
   "cell_type": "code",
   "execution_count": null,
   "metadata": {
    "tags": [
     "worksheet"
    ]
   },
   "outputs": [],
   "source": [
    "# Πρόχειρο άσκησης 1\n",
    "# - Σε αυτό το κελί μπορείτε να τυπώσετε μεταβλητές και να κάνετε γραφικές παραστάσεις για επαλήθευση. Δεν λαμβάνεται υπόψη στην βαθμολόγηση.\n",
    "\n"
   ]
  },
  {
   "cell_type": "markdown",
   "metadata": {},
   "source": [
    "## Άσκηση 2\n",
    "\n",
    "Γράψτε μια συνάρτηση με το όνομα `myfunction2` που δέχεται ως όρισμα τον χρόνο $t_1$ και υπολογίζει το ποσοστό $p$ (τιμές από 0 έως 1) της απόστασης που έχει διανυθεί σε σχέση με την συνολική απόσταση στον τροποποιημένο κύκλο WLTP της άσκησης 1:\n",
    "\n",
    "$$p(t)=\\frac{S(t)}{S_{tot}}$$\n",
    "\n",
    "Αν ο χρόνος $t$ δεν ταυτίζεται με καμία τιμή στον πίνακα, χρησιμοποιήστε την κοντινότερη τιμή.\n",
    "\n",
    "Ο υπολογισμός της $S(t_1)$ και $S_{tot}$ να γίνει δύο φορές χρησιμοποιώντας:\n",
    "\n",
    "1. μέθοδο του τραπεζίου (μπορείτε να γράψετε τον δικό σας κώδικα ή να χρησιμοποιήσετε την συνάρτηση trapezoid/trapz)\n",
    "2. κανόνα 1/3 του Simpson. Χρησιμοποιήστε την συνάρτηση simpson στην μονάδα κώδικα SciPy, αλλά όχι την απoδοκιμαζόμενη (**deprecated**) σύνταξη.\n",
    "\n",
    "Η συνάρτηση πρέπει να επιστρέφει ένα διάνυσμα με δύο τιμές που αντιστοιχούν στις 2 μεθόδους. \n",
    " \n",
    "Ελέγξτε τα αποτελέσματα της συνάρτησης για τους ίδιους χρόνους με την άσκηση 1."
   ]
  },
  {
   "cell_type": "code",
   "execution_count": null,
   "metadata": {},
   "outputs": [],
   "source": [
    "# Λύση της άσκησης 2\n",
    "# - Σε αυτό το κελί γράψτε μόνο τις ζητούμενες συναρτήσεις χωρίς print και input.\n",
    "def myfunction2(t1:float) -> np.ndarray:\n",
    "    return np.array([0.,0.])"
   ]
  },
  {
   "cell_type": "code",
   "execution_count": null,
   "metadata": {
    "tags": [
     "worksheet"
    ]
   },
   "outputs": [],
   "source": [
    "# Πρόχειρο άσκησης 2\n",
    "# - Σε αυτό το κελί μπορείτε να τυπώσετε μεταβλητές και να κάνετε γραφικές παραστάσεις για επαλήθευση. Δεν λαμβάνεται υπόψη στην βαθμολόγηση.\n",
    "\n"
   ]
  }
 ],
 "metadata": {
  "kernelspec": {
   "display_name": "Python 3",
   "language": "python",
   "name": "python3"
  },
  "language_info": {
   "codemirror_mode": {
    "name": "ipython",
    "version": 3
   },
   "file_extension": ".py",
   "mimetype": "text/x-python",
   "name": "python",
   "nbconvert_exporter": "python",
   "pygments_lexer": "ipython3",
   "version": "3.13.0"
  },
  "varInspector": {
   "cols": {
    "lenName": 16,
    "lenType": 16,
    "lenVar": 40
   },
   "kernels_config": {
    "python": {
     "delete_cmd_postfix": "",
     "delete_cmd_prefix": "del ",
     "library": "var_list.py",
     "varRefreshCmd": "print(var_dic_list())"
    },
    "r": {
     "delete_cmd_postfix": ") ",
     "delete_cmd_prefix": "rm(",
     "library": "var_list.r",
     "varRefreshCmd": "cat(var_dic_list()) "
    }
   },
   "types_to_exclude": [
    "module",
    "function",
    "builtin_function_or_method",
    "instance",
    "_Feature"
   ],
   "window_display": false
  }
 },
 "nbformat": 4,
 "nbformat_minor": 4
}
