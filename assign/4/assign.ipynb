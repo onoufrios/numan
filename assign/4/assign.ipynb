{
 "cells": [
  {
   "cell_type": "markdown",
   "metadata": {},
   "source": [
    "# Αριθμητική Ανάλυση\n",
    "## Εργασία 4: Παραγώγιση και ολοκλήρωση\n",
    "\n",
    "### Σημαντικές σημειώσεις\n",
    "\n",
    "- Όι ζητούμενες συναρτήσεις δεν πρέπει έχουν αναφορές σε global μεταβλητές εκτός από σταθερές καθιερωμένων μονάδων κώδικα (π.χ numpy.pi).\n",
    "- Ο αριθμός μητρώου πρέπει να είναι σύμφωνος με αυτόν που έχει δηλωθεί στο προφίλ του eclass.\n",
    "- Όπου χρησιμοποιούνται ψηφία του αριθμού μητρώου, πρέπει να είναι απευθείας δηλωμένα στον κώδικα (hard-coded) κάθε συνάρτησης και όχι να εξάγονται από τον ΑΜ.\n",
    "- Το αρχείο της εργασίας πρέπει να τρέχει εξ ολοκλήρου (Run All) για να βαθμολογηθεί.\n"
   ]
  },
  {
   "cell_type": "code",
   "execution_count": null,
   "metadata": {
    "tags": [
     "imports"
    ]
   },
   "outputs": [],
   "source": [
    "# Εισαγωγή μονάδων κώδικα\n",
    "# - Μην αλλάζετε αυτό το κελί.\n",
    "\n",
    "import numpy as np\n",
    "import matplotlib.pyplot as plt\n",
    "import pandas as pd\n",
    "\n",
    "WLTP=pd.read_csv(\"https://raw.githubusercontent.com/onoufrios/numan/refs/heads/main/assign/4/WLTP_class3.csv\")\n",
    "t_wltp=np.array(WLTP[\"Time[s]\"])\n",
    "u_wltp=np.array(WLTP[\"Vehicle_speed[km/h]\"])\n"
   ]
  },
  {
   "cell_type": "code",
   "execution_count": null,
   "metadata": {},
   "outputs": [],
   "source": [
    "# Στοιχεία φοιτητή\n",
    "# - Εισάγετε το όνομά σας με ελληνικούς χαρακτήρες.\n",
    "\n",
    "onoma = \"onoma\"\n",
    "eponymo = \"eponymo\"\n",
    "AM = 3100999\n"
   ]
  },
  {
   "cell_type": "markdown",
   "metadata": {},
   "source": [
    "### Άσκηση 1\n",
    "\n",
    "Για την έγκριση της κυκλοφορίας ενός επιβατηγού οχήματος στην Ευρωπαϊκή Ένωση γίνονται μετρήσεις σύμφωνα με τον [οδικό κύκλο WLTP](https://el.wikipedia.org/wiki/WLTP). Ο οδικός κύκλος για οχήματα κλάσης 3 δίνεται με την μορφή χρονοσειράς της ταχύτητας $u_{init} [\\text{km/h}]$ [εδώ](\"https://raw.githubusercontent.com/onoufrios/numan/refs/heads/main/assign/4/WLTP_class3.csv\").\n",
    "\n",
    "Έστω μία τροποποίηση του κύκλου WLTP:\n",
    "\n",
    "$$ \n",
    "\\begin{align} \n",
    "u_{mod}(t)&=u_{init}(t)\\cdot (1.05-a/100) & \\text{για } & 0 \\le t<589\\\\\n",
    "u_{mod}(t)&=u_{init}(t)\\cdot (1.02+b/100) & \\text{για } & 433 \\le t<1022\\\\\n",
    "u_{mod}(t)&=u_{init}(t)\\cdot (0.97+c/100) & \\text{για } & 1022 \\le t<1477\\\\\n",
    "u_{mod}(t)&=u_{init}(t)\\cdot (0.95+c/100) & \\text{για } & 1477 \\le t\n",
    "\\end{align} \n",
    "$$\n",
    "\n",
    "όπου a,b και c, τα 3 τελευταία ψηφία του αριθμού μητρώου σας (c=τελευταίο).\n",
    "\n",
    "Γράψτε μια συνάρτηση `myfunction1`, η οποία υπολογίζει την χρονοσειρά της τροποποιημένης ταχύτητας και  επιτάχυνσης $a[\\text{m}/\\text{s}^2]$:\n",
    "\n",
    "$$a=\\frac{du}{dt}$$ \n",
    "\n",
    "Στο αρχικό σημείο χρησιμοποιήστε προς τα εμπρός διαφορά, στο τελικό προς τα πίσω διαφορά και στα ενδιάμεσα κεντρικές διαφορές. Στην συνέχεια υπολογίστε την μέγιστη επιτάχυνση $a_{max,acc}$ και μέγιστη επιβράδυνση $a_{max,dec}$. \n",
    "\n",
    "Η συνάρτηση πρέπει να δέχεται ως είσοδο τον χρόνο $t$ και να επιστρέφει ένα διάνυσμα δύο τιμών με:\n",
    "- την $a$ στον χρονο $t$ που προκύπτει με γραμμική παρεμβολή.\n",
    "- το ποσοστό σε σχέση με την μέγιστη επιτάχυνση $\\frac{a}{a_{max,acc}}$ ή επιβράδυνση $\\frac{a}{a_{max,dec}}$ αναλόγως το πρόσημο της $a$.\n",
    "\n",
    "Ελέγξτε τα αποτελέσματα της συνάρτησης για τις τιμές του $t$:\n",
    "- 200s\n",
    "- 1200s\n",
    "- 1770s\n",
    "\n",
    "Δώστε προσοχή στην μονάδες του πίνακα και τις μονάδες που ζητούνται στα αποτελέσματα."
   ]
  },
  {
   "cell_type": "code",
   "execution_count": null,
   "metadata": {},
   "outputs": [],
   "source": [
    "# Λύση της άσκησης 1\n",
    "# - Σε αυτό το κελί γράψτε μόνο τις ζητούμενες συναρτήσεις χωρίς print και input.\n",
    "def myfunction1(t:float) -> np.ndarray:\n",
    "    return np.array([0.,0.])"
   ]
  },
  {
   "cell_type": "code",
   "execution_count": null,
   "metadata": {
    "tags": [
     "worksheet"
    ]
   },
   "outputs": [],
   "source": [
    "# Πρόχειρο άσκησης 1\n",
    "# - Σε αυτό το κελί μπορείτε να τυπώσετε μεταβλητές και να κάνετε γραφικές παραστάσεις για επαλήθευση. Δεν λαμβάνεται υπόψη στην βαθμολόγηση.\n",
    "\n"
   ]
  },
  {
   "cell_type": "markdown",
   "metadata": {},
   "source": [
    "### Άσκηση 2\n",
    "\n",
    "Γράψτε μια συνάρτηση με το όνομα `myfunction2` που υπολογίζει την απόσταση ($m$) και την μέση ταχύτητα ($m/s$) από τον τροποποιημένο οδικό κύκλο.\n",
    "\n",
    "$$Δs=\\int_{t_0}^{t_f}u dt$$\n",
    "\n",
    "$$\\bar{u}=\\frac{Δs}{t_f-t_0}\\$$\n",
    "\n",
    "Ο υπολογισμός να γίνει δύο φορές χρησιμοποιώντας:\n",
    "1) μέθοδο του τραπεζίου και\n",
    "2) κανόνα 1/3 του Simpson.\n",
    "\n",
    "Η συνάρτηση πρέπει να δέχεται ως είσοδο το πλήθος $n$ των πρώτων γραμμών του πίνακα που θα χρησιμοποιηθεί στους υπολογισμούς και να επιστρέφει ένα διάνυσμα $[Δs_{trap},\\bar{u}_{trap},Δs_{simp},\\bar{u}_{simp}]$.  \n",
    " \n",
    "Ελέγξτε τα αποτελέσματα της συνάρτησης για τις τιμές του $n$:\n",
    "- 10\n",
    "- 19\n"
   ]
  },
  {
   "cell_type": "code",
   "execution_count": null,
   "metadata": {},
   "outputs": [],
   "source": [
    "# Λύση της άσκησης 2\n",
    "# - Σε αυτό το κελί γράψτε μόνο τις ζητούμενες συναρτήσεις χωρίς print και input.\n",
    "def myfunction2(n:int) -> np.ndarray:\n",
    "    return np.array([0.,0.])"
   ]
  },
  {
   "cell_type": "code",
   "execution_count": null,
   "metadata": {
    "tags": [
     "worksheet"
    ]
   },
   "outputs": [],
   "source": [
    "# Πρόχειρο άσκησης 2\n",
    "# - Σε αυτό το κελί μπορείτε να τυπώσετε μεταβλητές και να κάνετε γραφικές παραστάσεις για επαλήθευση. Δεν λαμβάνεται υπόψη στην βαθμολόγηση.\n",
    "\n"
   ]
  }
 ],
 "metadata": {
  "kernelspec": {
   "display_name": "Python 3",
   "language": "python",
   "name": "python3"
  },
  "language_info": {
   "codemirror_mode": {
    "name": "ipython",
    "version": 3
   },
   "file_extension": ".py",
   "mimetype": "text/x-python",
   "name": "python",
   "nbconvert_exporter": "python",
   "pygments_lexer": "ipython3",
   "version": "3.12.0"
  },
  "varInspector": {
   "cols": {
    "lenName": 16,
    "lenType": 16,
    "lenVar": 40
   },
   "kernels_config": {
    "python": {
     "delete_cmd_postfix": "",
     "delete_cmd_prefix": "del ",
     "library": "var_list.py",
     "varRefreshCmd": "print(var_dic_list())"
    },
    "r": {
     "delete_cmd_postfix": ") ",
     "delete_cmd_prefix": "rm(",
     "library": "var_list.r",
     "varRefreshCmd": "cat(var_dic_list()) "
    }
   },
   "types_to_exclude": [
    "module",
    "function",
    "builtin_function_or_method",
    "instance",
    "_Feature"
   ],
   "window_display": false
  }
 },
 "nbformat": 4,
 "nbformat_minor": 4
}
