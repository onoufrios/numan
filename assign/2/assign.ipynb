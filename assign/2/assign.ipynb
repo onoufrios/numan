{
 "cells": [
  {
   "cell_type": "markdown",
   "metadata": {},
   "source": [
    "# Αριθμητική Ανάλυση\n",
    "## Εργασία 2"
   ]
  },
  {
   "cell_type": "code",
   "execution_count": null,
   "metadata": {
    "tags": [
     "imports"
    ]
   },
   "outputs": [],
   "source": [
    "# Εισαγωγή μονάδων κώδικα\n",
    "# - Μην αλλάζετε αυτό το κελί.\n",
    "\n",
    "import numpy as np\n",
    "import matplotlib.pyplot as plt"
   ]
  },
  {
   "cell_type": "code",
   "execution_count": null,
   "metadata": {},
   "outputs": [],
   "source": [
    "# Στοιχεία φοιτητή\n",
    "# - Εισάγετε το όνομά σας με ελληνικούς χαρακτήρες.\n",
    "\n",
    "onoma = \"onoma\"\n",
    "eponymo = \"eponymo\"\n",
    "AM = 3100999"
   ]
  },
  {
   "cell_type": "markdown",
   "metadata": {},
   "source": [
    "### Άσκηση 1\n",
    "Γράψτε μια συνάρτηση με το όνομα `myfunction1` που δέχεται ως όρισμα ενα διάνυσμα $C=[c_a,c_b,c_c]$ και υπολογίζει τις ρίζες του τριωνύμου \n",
    "\n",
    "$$c_a (1+a) x^2+c_b(1+b) x+c_c (1+c)=0$$ \n",
    "\n",
    "όπου a,b,c τα 3 τελευταία ψηφία του αριθμού μητρώου σας (c=τελευταίο).\n",
    "\n",
    "Η συνάρτηση πρέπει να επιστρέφει ένα διάνυσμα δύο τιμών με τις ρίζες, εκτός από τις 2 παρακάτω περιπτώσεις:\n",
    "- Όταν το τριώνυμο απλοποιείται σε εξίσωση πρώτου βαθμού, η δεύτερη τιμή πρέπει να είναι απροσδιόριστη.\n",
    "- Όταν δεν υπάρχουν πραγματικές ρίζες ή η εξίσωση είναι αδύνατη, η συνάρτηση πρέπει να επιστρέφει δύο απροσδιόριστες τιμές.\n",
    "\n",
    "Χρησιμοποιήσετε την εναλλακτική έκφραση για την δεύτερη ρίζα.\n",
    " \n",
    "Ελέγξτε τα αποτελέσματα της συνάρτησης για:\n",
    "\n",
    "- $C=[1,-1,-1]$\n",
    "- $C=[1,-10000,-1000]$\n",
    "- $C=[0,1,-1]$\n"
   ]
  },
  {
   "cell_type": "code",
   "execution_count": null,
   "metadata": {},
   "outputs": [],
   "source": [
    "# Λύση της άσκησης 1\n",
    "# - Σε αυτό το κελί γράψτε μόνο τις ζητούμενες συναρτήσεις χωρίς print και input.\n",
    "\n",
    "def myfunction1(C: np.ndarray) -> np.ndarray:\n",
    "    xroot=np.array([0.,0.])\n",
    "    return xroot\n"
   ]
  },
  {
   "cell_type": "code",
   "execution_count": null,
   "metadata": {
    "tags": [
     "worksheet"
    ]
   },
   "outputs": [],
   "source": [
    "# Πρόχειρο άσκησης 1\n",
    "# - Σε αυτό το κελί μπορείτε να τυπώσετε μεταβλητές και να κάνετε γραφικές παραστάσεις για επαλήθευση. Δεν λαμβάνεται υπόψη στην βαθμολόγηση.\n",
    "\n",
    "print(myfunction1(np.array([1.,-1.,1.])), myfunction1(np.array([1.,-10000.,1000.])), myfunction1(np.array([0.,1.,-1.])))\n"
   ]
  },
  {
   "cell_type": "markdown",
   "metadata": {},
   "source": [
    "### Άσκηση 2\n",
    "\n",
    "Η μετάδοση θερμότητας εντός ενός μονοδιάστατου τοιχώματος σε συνθήκες μόνιμης κατάστασης δίνεται από την διαφορική εξίσωση: \n",
    "\n",
    "$$\n",
    "\\frac{d}{dx}(k\\frac{dT}{dx})=0\n",
    "$$\n",
    "\n",
    "με τις παρακάτω οριακές συνθήκες σε πρακτικές εφαρμογές:\n",
    "$$\n",
    "\\left. {-k\\frac{dT}{dx}}\\right|_{x=0}=h_{in}(T_{in}-T_{x=0})\\\\\n",
    "\\left. -k\\frac{dT}{dx}\\right|_{x=L}=h_{out}(T_{x=L}-T_{out})\n",
    "$$\n",
    "\n",
    "Το παραπάνω πρόβλημα μπορεί να λυθεί αριθμητικά εφαρμόζοντας πεπερασμένες διαφορές και καταλήγοντας σε ένα γραμμικό σύστημα $n$ εξισώσεων και $n$ άγνωστων θερμοκρασιών που αντιστοιχούν στα σημεία $0,Δx,2Δx,\\dots,L$:\n",
    "\n",
    "$$\n",
    "\\begin{bmatrix}\n",
    "\\frac{k}{Δx}+h_{in} & -\\frac{k}{Δx} & 0 & {\\ldots} & 0 &{\\ldots}& 0 \\\\\n",
    "-\\frac{k}{Δx} & 2\\frac{k}{Δx} & -\\frac{k}{Δx} & {\\ldots} & 0 &{\\ldots}& 0 \\\\\n",
    "0 & -\\frac{k}{Δx} & 2\\frac{k}{Δx} & -\\frac{k}{Δx} & 0 &{\\ldots}& 0 \\\\\n",
    "{\\ldots} &{\\ldots} &{\\ldots} & {\\ldots}&{\\ldots} &{\\ldots}&{\\ldots}\\\\\n",
    "0 & 0 & -\\frac{k}{Δx}& 2\\frac{k}{Δx}& -\\frac{k}{Δx} & 0 &{\\ldots} \\\\\n",
    "{\\ldots} &{\\ldots} &{\\ldots} & {\\ldots}&{\\ldots}&{\\ldots}&{\\ldots} \\\\\n",
    "0& 0 & 0 & {\\ldots}& 0 & -\\frac{k}{Δx} &\\frac{k}{Δx}+h_{out} \\\\\n",
    "\\end{bmatrix}\n",
    "\\begin{bmatrix}\n",
    "T_1\\\\\n",
    "T_2\\\\\n",
    "T_3\\\\\n",
    "{\\ldots}\\\\\n",
    "{T_i}\\\\\n",
    "{\\ldots}\\\\\n",
    "T_n\\\\\n",
    "\\end{bmatrix}\n",
    "=\n",
    "\\begin{bmatrix}\n",
    "h_{in}T_{in}\\\\\n",
    "0\\\\\n",
    "0\\\\\n",
    "{\\ldots}\\\\\n",
    "0\\\\\n",
    "{\\ldots}\\\\\n",
    "h_{out}T_{out}\\\\\n",
    "\\end{bmatrix}\n",
    "$$\n",
    "\n",
    "με\n",
    "- $k$ τον συντελεστή θερμικής αγωγιμότητας του υλικού του τοιχώματος\n",
    "- $Δx=\\frac{L}{n-1}$ το χωρικό βήμα της διακριτοποίησης του πάχους $L$ του τοιχώματος\n",
    "- $h_{in}$ τον συντελεστή συναγωγής στο εσωτερικό\n",
    "- $h_{out}$ τον συντελεστή συναγωγής στο εξωτερικό\n",
    "\n",
    "Γράψτε μια συνάρτηση `myfunction2` που δέχεται ως ορίσματα τα μεγέθη $k,L,h_{in},h_{out},n$ και επιστρέφει ένα διάνυσμα με τις θερμοκρασίες $[Τ_1,Τ_2,\\dots,T_n]$. Για τον υπολογισμό του διανύσματος μπορεί να επιλεγεί οποιαδήποτε μέθοδος επίλυσης.\n",
    "\n",
    "Οι οριακές θερμοκρασίες δίνονται με βάση τον αριθμό μητρώου:\n",
    "- $[21+a-\\frac{b}{2}]*C$\n",
    "- $[8-c]°C$\n",
    "\n",
    "Ελέγξτε τα αποτελέσματα της συνάρτησης για\n",
    "- $k=1\\quad\\frac{W}{mK}$\n",
    "- $L=0.3\\quad m$\n",
    "- $h_{in}=6\\quad \\frac{W}{m^2K}$\n",
    "- $h_{out}=8\\quad \\frac{W}{m^2K}$\n",
    "- $n=10$\n",
    "\n",
    "Για δικιά σας κατανόηση μπορείτε να κατασκευάσετε γράφημα θερμοκρασίας[°C]-απόστασης[m] με τα σημεία $(0,Τ_1),(Δx,T_2),(2Δx,T_3),\\dots,((n-1)Δx,T_n)$.\n",
    "\n",
    "```\n",
    "Προσοχή: Ελέγξτε για προφανή λάθη παραπάνω.\n",
    "```\n",
    "\n",
    "```\n",
    "Ερώτηση για τις εξετάσεις: Λαμβάνοντας υπόψη την μορφή του πίνακα, ποια μέθοδο επίλυσης θα εφαρμόζατε για να περιορίσετε το υπολογιστικό φορτίο;\n",
    "```"
   ]
  },
  {
   "cell_type": "code",
   "execution_count": null,
   "metadata": {},
   "outputs": [],
   "source": [
    "# Λύση της άσκησης 2\n",
    "# - Σε αυτό το κελί γράψτε μόνο τις ζητούμενες συναρτήσεις χωρίς print και input.\n",
    "def myfunction2(k: float, L:float, hin:float, hout:float, n:int)->np.ndarray:\n",
    "    T=np.zeros(n)\n",
    "    return T\n"
   ]
  },
  {
   "cell_type": "code",
   "execution_count": null,
   "metadata": {
    "tags": [
     "worksheet"
    ]
   },
   "outputs": [],
   "source": [
    "# Πρόχειρο άσκησης 2\n",
    "# - Σε αυτό το κελί μπορείτε να τυπώσετε μεταβλητές και να κάνετε γραφικές παραστάσεις για επαλήθευση. Δεν λαμβάνεται υπόψη στην βαθμολόγηση.\n",
    "\n",
    "print(myfunction2(1.0, 0.3, 6., 8.,10))"
   ]
  },
  {
   "cell_type": "markdown",
   "metadata": {},
   "source": [
    "### Άσκηση 3\n",
    "Γράψτε μια συνάρτηση `myfunction3` που επιλύει το γραμμικό σύστημα:\n",
    "\n",
    "$$\n",
    "\\begin{bmatrix}\n",
    "3 & -1 & -2\\\\\n",
    "2 & 5 & -3\\\\\n",
    "3 & -2 & 5\n",
    "\\end{bmatrix}\n",
    "\\cdot\n",
    "\\begin{bmatrix} x_1\\\\ x_2\\\\ x_3 \\end{bmatrix}\n",
    "=\n",
    "\\begin{bmatrix} a+1\\\\ b+2\\\\ c+3 \\end{bmatrix}\n",
    "$$\n",
    "όπου a,b,c τα 3 τελευταία ψηφία του αριθμού μητρώου σας (c=τελευταίο).\n",
    "\n",
    "Χρησιμοποιήστε την μέθοδο Gauss-Seidel σταματώντας όταν όλα τα στοιχεία της καινούργιας εκτίμησης αποκλίνουν από την προηγούμενη λιγότερο από $10^{-3}$ κατά απόλυτη τιμή. Η συνάρτηση θα δέχεται ως όρισμα ένα διάνυσμα $x_{init}$ με τις αρχικές τιμές και θα επιστρέφει ένα διάνυσμα 3 στοιχείων $[x_1,x_2,x_3]$ με τα τελικά αποτελέσματα.\n",
    "\n",
    "Ελέγξτε τα αποτελέσματα της συνάρτησης για $x_{init}=[0.,0.,0.]$ και $x_{init}=[100.,100.,100.]$.\n",
    "\n",
    "```\n",
    "Υπόδειξη: Χρησιμοποιήστε .copy(), όταν θέλετε να αντιγράψετε τις τιμές σε διαφορετικό χώρο μνήμης και όχι να δημιουργήσετε ένα δείκτη σε υπάρχων πίνακα.\n",
    "```\n",
    "```\n",
    "Ερώτηση για τις εξετάσεις: Ποιο διάνυσμα αρχικών τιμών δινει πιο γρήγορη σύγκλιση και γιατί;\n",
    "```"
   ]
  },
  {
   "cell_type": "code",
   "execution_count": null,
   "metadata": {},
   "outputs": [],
   "source": [
    "# Λύση της άσκησης 3\n",
    "# - Σε αυτό το κελί γράψτε μόνο τις ζητούμενες συναρτήσεις χωρίς print και input.\n",
    "\n",
    "def myfunction3(xinit: np.ndarray)->np.ndarray:\n",
    "    xnew=np.zeros(3)\n",
    "    return xnew"
   ]
  },
  {
   "cell_type": "code",
   "execution_count": null,
   "metadata": {
    "tags": [
     "worksheet"
    ]
   },
   "outputs": [],
   "source": [
    "# Πρόχειρο άσκησης 3\n",
    "# - Σε αυτό το κελί μπορείτε να τυπώσετε μεταβλητές και να κάνετε γραφικές παραστάσεις για επαλήθευση. Δεν λαμβάνεται υπόψη στην βαθμολόγηση.\n",
    "\n",
    "print(myfunction3(np.array([0., 0., 0.])),myfunction3(np.array([100., 100., 100.])))"
   ]
  }
 ],
 "metadata": {
  "kernelspec": {
   "display_name": "Python 3",
   "language": "python",
   "name": "python3"
  },
  "language_info": {
   "codemirror_mode": {
    "name": "ipython",
    "version": 3
   },
   "file_extension": ".py",
   "mimetype": "text/x-python",
   "name": "python",
   "nbconvert_exporter": "python",
   "pygments_lexer": "ipython3",
   "version": "3.12.0"
  },
  "varInspector": {
   "cols": {
    "lenName": 16,
    "lenType": 16,
    "lenVar": 40
   },
   "kernels_config": {
    "python": {
     "delete_cmd_postfix": "",
     "delete_cmd_prefix": "del ",
     "library": "var_list.py",
     "varRefreshCmd": "print(var_dic_list())"
    },
    "r": {
     "delete_cmd_postfix": ") ",
     "delete_cmd_prefix": "rm(",
     "library": "var_list.r",
     "varRefreshCmd": "cat(var_dic_list()) "
    }
   },
   "types_to_exclude": [
    "module",
    "function",
    "builtin_function_or_method",
    "instance",
    "_Feature"
   ],
   "window_display": false
  }
 },
 "nbformat": 4,
 "nbformat_minor": 4
}
