{
 "cells": [
  {
   "cell_type": "markdown",
   "metadata": {},
   "source": [
    "# Αριθμητική Ανάλυση\n",
    "## Εργασία 1"
   ]
  },
  {
   "cell_type": "code",
   "execution_count": null,
   "metadata": {
    "tags": [
     "imports"
    ]
   },
   "outputs": [],
   "source": [
    "# Εισαγωγή μονάδων κώδικα\n",
    "# - Μην αλλάζετε αυτό το κελί.\n",
    "\n",
    "import numpy as np\n",
    "import matplotlib.pyplot as plt"
   ]
  },
  {
   "cell_type": "code",
   "execution_count": null,
   "metadata": {},
   "outputs": [],
   "source": [
    "# Στοιχεία φοιτητή\n",
    "# - Εισάγετε το όνομά σας με ελληνικούς χαρακτήρες.\n",
    "\n",
    "onoma = \"onoma\"\n",
    "eponymo = \"eponymo\"\n",
    "AM = 3120123"
   ]
  },
  {
   "cell_type": "markdown",
   "metadata": {},
   "source": [
    "**Άσκηση 1:** Γράψτε μια συνάρτηση με το όνομα `myfunction1` που δέχεται ως όρισμα μία μεταβλητή $x$ και επιστρέφει το αποτέλεσμα της μαθηματικής έκφρασης $a x^2+b x+c$, όπου a,b,c τα 3 τελευταία ψηφία του αριθμού μητρώου σας (c=τελευταίο).\n",
    "\n",
    "Ελέγξτε τα αποτελέσματα της συνάρτησης για $x=0$, $x=1$ και $x=2.5$."
   ]
  },
  {
   "cell_type": "code",
   "execution_count": null,
   "metadata": {},
   "outputs": [],
   "source": [
    "# Λύση της άσκησης 1\n",
    "# - Σε αυτό το κελί γράψτε μόνο τις ζητούμενες συναρτήσεις χωρίς print και input."
   ]
  },
  {
   "cell_type": "code",
   "execution_count": null,
   "metadata": {
    "tags": [
     "worksheet"
    ]
   },
   "outputs": [],
   "source": [
    "# Πρόχειρο άσκησης 1\n",
    "# - Σε αυτό το κελί μπορείτε να τυπώσετε μεταβλητές για επαλήθευση. Δεν λαμβάνεται υπόψη στην βαθμολόγηση.\n",
    "\n",
    "print(myfunction1(0), myfunction1(1), myfunction1(2.5))"
   ]
  },
  {
   "cell_type": "markdown",
   "metadata": {},
   "source": [
    "**Άσκηση 2:** Γράψτε μια συνάρτηση `myfunction2` που δέχεται ως όρισμα ένα διάνυσμα 3 τιμών $P$ και επιστρέφει το $P+\\begin{bmatrix}a\\\\ b\\\\ c\\end{bmatrix}$, όπου a,b,c τα 3 τελευταία ψηφία του αριθμού μητρώου σας (c=τελευταίο).\n",
    "\n",
    "Ελέγξτε τα αποτελέσματα της συνάρτησης για $P=\\begin{bmatrix}0\\\\ 0\\\\ 0\\end{bmatrix}$ και $P=\\begin{bmatrix}1\\\\ 2\\\\ 3\\end{bmatrix}$."
   ]
  },
  {
   "cell_type": "code",
   "execution_count": null,
   "metadata": {},
   "outputs": [],
   "source": [
    "# Λύση της άσκησης 2\n",
    "# - Σε αυτό το κελί γράψτε μόνο τις ζητούμενες συναρτήσεις χωρίς print και input."
   ]
  },
  {
   "cell_type": "code",
   "execution_count": null,
   "metadata": {
    "tags": [
     "worksheet"
    ]
   },
   "outputs": [],
   "source": [
    "# Πρόχειρο άσκησης 2\n",
    "# - Σε αυτό το κελί μπορείτε να τυπώσετε μεταβλητές για επαλήθευση. Δεν λαμβάνεται υπόψη στην βαθμολόγηση.\n",
    "\n",
    "print(myfunction2(np.array([0, 0, 0])), myfunction2(np.array([1, 2, 3])))"
   ]
  }
 ],
 "metadata": {
  "kernelspec": {
   "display_name": "Python 3",
   "language": "python",
   "name": "python3"
  },
  "language_info": {
   "codemirror_mode": {
    "name": "ipython",
    "version": 3
   },
   "file_extension": ".py",
   "mimetype": "text/x-python",
   "name": "python",
   "nbconvert_exporter": "python",
   "pygments_lexer": "ipython3",
   "version": "3.10.11"
  },
  "varInspector": {
   "cols": {
    "lenName": 16,
    "lenType": 16,
    "lenVar": 40
   },
   "kernels_config": {
    "python": {
     "delete_cmd_postfix": "",
     "delete_cmd_prefix": "del ",
     "library": "var_list.py",
     "varRefreshCmd": "print(var_dic_list())"
    },
    "r": {
     "delete_cmd_postfix": ") ",
     "delete_cmd_prefix": "rm(",
     "library": "var_list.r",
     "varRefreshCmd": "cat(var_dic_list()) "
    }
   },
   "types_to_exclude": [
    "module",
    "function",
    "builtin_function_or_method",
    "instance",
    "_Feature"
   ],
   "window_display": false
  }
 },
 "nbformat": 4,
 "nbformat_minor": 4
}
