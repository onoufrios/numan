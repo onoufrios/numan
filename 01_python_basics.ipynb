{
 "cells": [
  {
   "cell_type": "markdown",
   "metadata": {},
   "source": [
    "# Άσκηση 1.1\n",
    "\n",
    "Υπολογίστε την παρακάτω μαθηματική έκφραση και το τετράγωνο της.\n",
    "\n",
    "$$\\frac{3^{\\frac{3}2}+5}{8+2}$$\n"
   ]
  },
  {
   "cell_type": "code",
   "execution_count": null,
   "metadata": {},
   "outputs": [],
   "source": [
    "(3**(3/2)+5)/(8+2)\n",
    "\n",
    "_**2"
   ]
  }
 ],
 "metadata": {
  "language_info": {
   "name": "python"
  },
  "orig_nbformat": 4
 },
 "nbformat": 4,
 "nbformat_minor": 2
}
