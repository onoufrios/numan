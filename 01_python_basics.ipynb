{
 "cells": [
  {
   "cell_type": "markdown",
   "metadata": {},
   "source": [
    "# Άσκηση 1.1\n",
    "\n",
    "Υπολογίστε την παρακάτω μαθηματική έκφραση και το τετράγωνο της.\n",
    "\n",
    "$$\\frac{3^{\\frac{3}2}+5}{8+2}$$\n"
   ]
  },
  {
   "cell_type": "code",
   "execution_count": 2,
   "metadata": {},
   "outputs": [
    {
     "name": "stdout",
     "output_type": "stream",
     "text": [
      "1.0196152422706632 1.0396152422706633\n"
     ]
    }
   ],
   "source": [
    "a = (3 ** (3 / 2) + 5) / (8 + 2)\n",
    "\n",
    "print(a, a**2)"
   ]
  }
 ],
 "metadata": {
  "kernelspec": {
   "display_name": "Python 3",
   "language": "python",
   "name": "python3"
  },
  "language_info": {
   "codemirror_mode": {
    "name": "ipython",
    "version": 3
   },
   "file_extension": ".py",
   "mimetype": "text/x-python",
   "name": "python",
   "nbconvert_exporter": "python",
   "pygments_lexer": "ipython3",
   "version": "3.10.8"
  },
  "orig_nbformat": 4
 },
 "nbformat": 4,
 "nbformat_minor": 2
}
