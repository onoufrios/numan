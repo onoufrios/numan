{
 "cells": [
  {
   "cell_type": "markdown",
   "metadata": {},
   "source": [
    "#Άσκηση 4.2\n",
    "\n",
    "Επιλύστε το παρακάτω γραμμικό σύστημα με την χρήση της μονάδας κώδικα numpy. Στην συνέχεια εφαρμόστε την παραγοντοποίηση LU στον πίνακα $A$ με την χρήση της μονάδας κώδικα scipy.\n",
    "\n",
    "$\n",
    "\\begin{align}\n",
    "& 4x_1 & +&2x_2 & +& x_3 &=& 6 \\\\\n",
    "&  x_1 & -& x_2 & +&2x_3 &=& 5 \\\\\n",
    "& 2x_1 & +&2x_2 & -& x_3 &=& 0 \\\\\n",
    "\\end{align}\n",
    "$"
   ]
  },
  {
   "cell_type": "code",
   "execution_count": null,
   "metadata": {},
   "outputs": [],
   "source": [
    "from scipy.linalg import lu\n",
    "import numpy as np\n",
    "\n",
    "A = np.array([[4, 2, 1], [1, -1, 2], [2, 2, -1]])\n",
    "b = np.array([6, 5, 0])\n",
    "\n",
    "x = np.linalg.solve(A, b)\n",
    "print(x)\n",
    "\n",
    "P, L, U = lu(A)     # Permutation matrix, Lower triangular, Upper triangular\n",
    "print(f\"\\n{P}\\n\\n{L}\\n\\n{U}\\n\\n{L@U}\")\n"
   ]
  }
 ],
 "metadata": {
  "kernelspec": {
   "display_name": "Python 3",
   "language": "python",
   "name": "python3"
  },
  "language_info": {
   "name": "python",
   "version": "3.10.8"
  },
  "orig_nbformat": 4
 },
 "nbformat": 4,
 "nbformat_minor": 2
}
