{
 "cells": [
  {
   "cell_type": "markdown",
   "metadata": {},
   "source": [
    "# Άσκηση 6.2\n",
    "\n",
    "Να βρεθεί μία ρίζα της συνάρτησης\n",
    "\n",
    "$$f(x)= e^x+x-5$$\n",
    "\n",
    "στο διάστημα $(0,10)$ με την μέθοδο της διχοτόμησης και όριο ανοχής $10^{-5}$ στην απόλυτη διαφορά μεταξύ δύο διαδοχικών εκτιμήσεων της ρίζας."
   ]
  },
  {
   "cell_type": "code",
   "execution_count": null,
   "metadata": {},
   "outputs": [],
   "source": [
    "import numpy as np\n",
    "\n",
    "\n",
    "def f(x: float) -> float:\n",
    "    return np.exp(x)+x-5\n",
    "\n",
    "\n",
    "xa = 0\n",
    "xb = 10\n",
    "\n",
    "fa = f(xa)\n",
    "fb = f(xb)\n",
    "\n",
    "print(fa*fb < 0)  # Check\n",
    "\n",
    "xm = np.Inf\n",
    "TOL = 1e-5\n",
    "print(\"i\\tx\\t\\tf(x)\")\n",
    "\n",
    "for i in range(100):    # 100 is max number of iterations\n",
    "    xm_old = xm\n",
    "    xm = 0.5*(xa+xb)\n",
    "    fm = f(xm)\n",
    "\n",
    "    if fa*fm > 0:\n",
    "        xa = xm\n",
    "        fa = fm\n",
    "    else:\n",
    "        xb = xm\n",
    "        fb = fm\n",
    "\n",
    "    print(f\"{i}\\t{xm:0.7f}\\t{fm:0.7f}\")\n",
    "\n",
    "    e = abs(xm-xm_old)  # absolute error\n",
    "    if e < TOL:\n",
    "        break\n"
   ]
  }
 ],
 "metadata": {
  "celltoolbar": "Slideshow",
  "kernelspec": {
   "display_name": "Python 3 (ipykernel)",
   "language": "python",
   "name": "python3"
  },
  "language_info": {
   "codemirror_mode": {
    "name": "ipython",
    "version": 3
   },
   "file_extension": ".py",
   "mimetype": "text/x-python",
   "name": "python",
   "nbconvert_exporter": "python",
   "pygments_lexer": "ipython3",
   "version": "3.10.8"
  }
 },
 "nbformat": 4,
 "nbformat_minor": 2
}
