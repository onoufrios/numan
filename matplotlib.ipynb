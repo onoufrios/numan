{
 "cells": [
  {
   "cell_type": "markdown",
   "metadata": {},
   "source": [
    "# Matplotlib\n",
    "\n",
    "Απεικονίστε σε γραφική παράσταση την συνάρτηση του συνημιτόνου ως προς $x$, το οποίο μεταβάλλεται από 0 ως 360° με βήμα 10°."
   ]
  },
  {
   "cell_type": "code",
   "execution_count": null,
   "metadata": {},
   "outputs": [],
   "source": [
    "import matplotlib.pyplot as plt\n",
    "import numpy as np\n",
    "\n",
    "x = np.arange(0, 360 + 10, 10)\n",
    "y = np.cos(np.radians(x))\n",
    "\n",
    "fig, ax = plt.subplots()\n",
    "ax.set(xlabel='x', ylabel='y')\n",
    "ax.plot(x, y, '^-r')  # continuous red line\n",
    "ax.grid()\n"
   ]
  }
 ],
 "metadata": {
  "kernelspec": {
   "display_name": "Python 3",
   "language": "python",
   "name": "python3"
  },
  "language_info": {
   "codemirror_mode": {
    "name": "ipython",
    "version": 3
   },
   "file_extension": ".py",
   "mimetype": "text/x-python",
   "name": "python",
   "nbconvert_exporter": "python",
   "pygments_lexer": "ipython3",
   "version": "3.13.0"
  },
  "orig_nbformat": 4
 },
 "nbformat": 4,
 "nbformat_minor": 2
}
