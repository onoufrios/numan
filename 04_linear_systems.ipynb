{
 "cells": [
  {
   "cell_type": "markdown",
   "metadata": {},
   "source": [
    "Η καθιερωμένη συνάρτηση της Python [numpy.linalg.solve](https://numpy.org/doc/stable/reference/generated/numpy.linalg.solve.html) χρησιμοποιεί μια υλοποίηση της LU decomposition που είναι διαθέσιμη στην βιβλιοθήκη [LAPACK](https://netlib.org/lapack/explore-html/d7/d3b/group__double_g_esolve_ga5ee879032a8365897c3ba91e3dc8d512.html) για την επίλυση γραμμικών συστημάτων.\n",
    "Επιπλέον στην μονάδα κώδικα scipy διατίθενται επιπλέον βοηθητικές συναρτήσεις, όπως η [scipy.linalg.lu](https://docs.scipy.org/doc/scipy/reference/generated/scipy.linalg.lu.html#scipy.linalg.lu) για την παραγοντοποίηση LU.\n",
    "\n",
    "```{tip}\n",
    "Επιλύστε το γραμμικό σύστημα \n",
    "\n",
    "$\n",
    "\\begin{aligned}\n",
    "& 4x_1 & +&2x_2 & +& x_3 &=& 6 \\\\\n",
    "&  x_1 & -& x_2 & +&2x_3 &=& 5 \\\\\n",
    "& 2x_1 & +&2x_2 & -& x_3 &=& 0 \\\\\n",
    "\\end{aligned}\n",
    "$\n",
    "\n",
    "με την χρήση της μονάδας κώδικα numpy και εφαρμόστε την παραγοντοποίηση LU στον πίνακα $A$ με την χρήση της μονάδας κώδικα scipy.\n",
    "\n",
    "```"
   ]
  },
  {
   "cell_type": "code",
   "execution_count": null,
   "metadata": {},
   "outputs": [],
   "source": [
    "from scipy.linalg import lu\n",
    "import numpy as np\n",
    "\n",
    "A = np.array([[4, 2, 1], [1, -1, 2], [2, 2, -1]])\n",
    "b = np.array([6, 5, 0])\n",
    "\n",
    "x = np.linalg.solve(A, b)\n",
    "print(x)\n",
    "\n",
    "P, L, U = lu(A)     # Permutation matrix, Lower triangular, Upper triangular\n",
    "print(f\"\\n{P}\\n\\n{L}\\n\\n{U}\\n\\n{L@U}\")\n"
   ]
  }
 ],
 "metadata": {
  "kernelspec": {
   "display_name": "Python 3",
   "language": "python",
   "name": "python3"
  },
  "language_info": {
   "name": "python",
   "version": "3.10.8"
  },
  "orig_nbformat": 4
 },
 "nbformat": 4,
 "nbformat_minor": 2
}
